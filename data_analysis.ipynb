{
 "cells": [
  {
   "cell_type": "code",
   "execution_count": null,
   "metadata": {},
   "outputs": [],
   "source": [
    "%load_ext nb_black"
   ]
  },
  {
   "attachments": {},
   "cell_type": "markdown",
   "metadata": {},
   "source": [
    "# 0. Initiate"
   ]
  },
  {
   "cell_type": "code",
   "execution_count": null,
   "metadata": {},
   "outputs": [],
   "source": [
    "# Load packages\n",
    "import os\n",
    "import matplotlib.pyplot as plt\n",
    "import seaborn as sns\n",
    "import numpy as np\n",
    "import pandas as pd\n",
    "import random\n",
    "import scipy as sp\n",
    "from scipy.io.wavfile import write\n",
    "from tqdm import tqdm\n",
    "import librosa\n",
    "import librosa.display\n",
    "import math\n",
    "\n",
    "import warnings\n",
    "warnings.simplefilter(action=\"ignore\")\n",
    "\n",
    "from HumBugDB.LogMelSpecs.compute_LogMelSpecs import waveform_to_examples\n",
    "from DataProcessing.XGBoost_features.metadata import *\n",
    "from DataProcessing.helper_code import *\n",
    "from DataProcessing.find_and_load_patient_files import *\n",
    "from DataProcessing.label_extraction import *"
   ]
  },
  {
   "cell_type": "code",
   "execution_count": null,
   "metadata": {},
   "outputs": [],
   "source": [
    "# Define paths\n",
    "data_folder = \"/Users/felixkrones/python_projects/data/physionet_challenge_2022/physionet.org/files/circor-heart-sound/1.0.3/training_data\"\n",
    "output_folder = \"data/e_challenge_anaylsis/\""
   ]
  },
  {
   "cell_type": "code",
   "execution_count": null,
   "metadata": {},
   "outputs": [],
   "source": [
    "def get_features(data, recordings):\n",
    "    # Extract the age group and replace with the (approximate) number of months for the middle of the age group.\n",
    "    age_group = get_age(data)\n",
    "\n",
    "    if compare_strings(age_group, 'Neonate'):\n",
    "        age = 0.5\n",
    "    elif compare_strings(age_group, 'Infant'):\n",
    "        age = 6\n",
    "    elif compare_strings(age_group, 'Child'):\n",
    "        age = 6 * 12\n",
    "    elif compare_strings(age_group, 'Adolescent'):\n",
    "        age = 15 * 12\n",
    "    elif compare_strings(age_group, 'Young Adult'):\n",
    "        age = 20 * 12\n",
    "    else:\n",
    "        age = float('nan')\n",
    "\n",
    "    # Extract sex. Use one-hot encoding.\n",
    "    sex = get_sex(data)\n",
    "\n",
    "    sex_features = np.zeros(2, dtype=int)\n",
    "    if compare_strings(sex, 'Female'):\n",
    "        sex_features[0] = 1\n",
    "    elif compare_strings(sex, 'Male'):\n",
    "        sex_features[1] = 1\n",
    "\n",
    "    # Extract height and weight.\n",
    "    height = get_height(data)\n",
    "    weight = get_weight(data)\n",
    "\n",
    "    # Extract pregnancy status.\n",
    "    is_pregnant = get_pregnancy_status(data)\n",
    "\n",
    "    # Extract recording locations and data. Identify when a location is present, and compute the mean, variance, and skewness of\n",
    "    # each recording. If there are multiple recordings for one location, then extract features from the last recording.\n",
    "    locations = get_locations(data)\n",
    "\n",
    "    recording_locations = ['AV', 'MV', 'PV', 'TV', 'PhC']\n",
    "    num_recording_locations = len(recording_locations)\n",
    "    recording_features = np.zeros((num_recording_locations, 4), dtype=float)\n",
    "    num_locations = len(locations)\n",
    "    num_recordings = len(recordings)\n",
    "    if num_locations==num_recordings:\n",
    "        for i in range(num_locations):\n",
    "            for j in range(num_recording_locations):\n",
    "                if compare_strings(locations[i], recording_locations[j]) and np.size(recordings[i])>0:\n",
    "                    recording_features[j, 0] = 1\n",
    "                    recording_features[j, 1] = np.mean(recordings[i])\n",
    "                    recording_features[j, 2] = np.var(recordings[i])\n",
    "                    recording_features[j, 3] = sp.stats.skew(recordings[i])\n",
    "    recording_features = recording_features.flatten()\n",
    "\n",
    "    features = np.hstack(([age_group], [age], sex_features, [height], [weight], [is_pregnant], recording_features))\n",
    "\n",
    "    return np.asarray(features)"
   ]
  },
  {
   "cell_type": "code",
   "execution_count": null,
   "metadata": {},
   "outputs": [],
   "source": [
    "# Load recordings.\n",
    "def load_recordings(data_folder, data, get_frequencies=False):\n",
    "    num_locations = get_num_locations(data)\n",
    "    recording_information = data.split('\\n')[1:num_locations+1]\n",
    "\n",
    "    recordings = list()\n",
    "    locations = list()\n",
    "    frequencies = list()\n",
    "    for i in range(num_locations):\n",
    "        entries = recording_information[i].split(' ')\n",
    "        recording_file = entries[2]\n",
    "        filename = os.path.join(data_folder, recording_file)\n",
    "        recording, frequency = load_wav_file(filename)\n",
    "        recordings.append(recording)\n",
    "        locations.append(entries[0])\n",
    "        frequencies.append(frequency)\n",
    "\n",
    "    if get_frequencies:\n",
    "        return recordings, locations, frequencies\n",
    "    else:\n",
    "        return recordings, locations"
   ]
  },
  {
   "attachments": {},
   "cell_type": "markdown",
   "metadata": {},
   "source": [
    "# 1. Load data"
   ]
  },
  {
   "cell_type": "code",
   "execution_count": null,
   "metadata": {},
   "outputs": [],
   "source": [
    " # Find the patient data files.\n",
    "patient_files = find_patient_files(data_folder)\n",
    "num_patient_files = len(patient_files)\n",
    "\n",
    "murmur_classes = ['Present', 'Unknown', 'Absent']\n",
    "num_murmur_classes = len(murmur_classes)\n",
    "outcome_classes = ['Abnormal', 'Normal']\n",
    "num_outcome_classes = len(outcome_classes)\n",
    "features = list()\n",
    "murmurs = list()\n",
    "outcomes = list()\n",
    "recordings = list()\n",
    "locations = list()\n",
    "print(\"Extracting features from patient data...\")\n",
    "for i in tqdm(range(num_patient_files)):\n",
    "\n",
    "    # Load the current patient data and recordings.\n",
    "    current_patient_data = load_patient_data(patient_files[i])\n",
    "    current_recordings, current_locations = load_recordings(data_folder, current_patient_data)\n",
    "    current_recordings = [r / 32768 for r in current_recordings]\n",
    "    num_recordings_code = get_num_locations(current_patient_data)\n",
    "    num_recordings = len(current_recordings)\n",
    "    recordings.append(current_recordings)\n",
    "    locations.append(current_locations)\n",
    "\n",
    "    # Extract features.\n",
    "    current_features = get_features(current_patient_data, current_recordings)\n",
    "    current_features = np.insert(current_features,0,current_patient_data.split(\" \")[0])\n",
    "    current_features = np.insert(current_features,1,current_patient_data.split(\" \")[2][:-3])\n",
    "    current_features = np.insert(current_features,2,num_recordings)\n",
    "    current_features = np.insert(current_features,3,num_recordings_code)\n",
    "    features.append(current_features)\n",
    "\n",
    "    # Extract labels and use one-hot encoding.\n",
    "    ## Murmur\n",
    "    current_murmur = np.zeros(num_murmur_classes, dtype=int)\n",
    "    murmur = get_murmur(current_patient_data)\n",
    "    if murmur in murmur_classes:\n",
    "        j = murmur_classes.index(murmur)\n",
    "        current_murmur[j] = 1\n",
    "    murmurs.append(current_murmur)\n",
    "    ## Outcome\n",
    "    current_outcome = np.zeros(num_outcome_classes, dtype=int)\n",
    "    outcome = get_outcome(current_patient_data)\n",
    "    if outcome in outcome_classes:\n",
    "        j = outcome_classes.index(outcome)\n",
    "        current_outcome[j] = 1\n",
    "    outcomes.append(current_outcome)\n",
    "\n",
    "features = np.vstack(features)\n",
    "murmurs = np.vstack(murmurs)\n",
    "outcomes = np.vstack(outcomes)\n",
    "\n",
    "# Combine dataframes\n",
    "print(\"Combining dataframes...\")\n",
    "assert len(recordings) == len(locations)\n",
    "features_pd = pd.DataFrame(features, columns=[\"id\", \"hz\", \"num_recordings\", \"num_recordings_code\", \"age_group\", \"age\", \"female\", \"male\", \"height\", \"weight\", \"is_pregnant\"]+[f\"standard_recording_features_{i}_{t}\" for t in [\"1\", \"mean\", \"var\", \"skew\"] for i in range(5)])#+[f\"signatures{i}\" for i in range(len(features[0])-12)])\n",
    "murmurs_pd = pd.DataFrame(murmurs, columns=murmur_classes)\n",
    "outcomes_pd = pd.DataFrame(outcomes, columns=outcome_classes)\n",
    "recordings_pd = pd.DataFrame(columns=np.unique([item for sublist in locations for item in sublist]))\n",
    "for i in tqdm(range(len(locations))):\n",
    "    dict_data = {locations[i][j]: [recordings[i][j]] for j in range(len(locations[i]))}\n",
    "    temp_df = pd.DataFrame(dict_data)\n",
    "    recordings_pd = pd.concat([recordings_pd, temp_df], ignore_index=True)\n",
    "complete_pd = pd.concat([features_pd.loc[:, [c for c in features_pd.columns if \"standard_recording_features_\" not in c]], murmurs_pd, outcomes_pd, recordings_pd], axis=1)\n",
    "\n",
    "# Prep\n",
    "features_pd[\"age_year\"] = features_pd['age'].astype(float).astype(int, errors='ignore')/12\n",
    "complete_pd[\"age_year\"] = complete_pd['age'].astype(float).astype(int, errors='ignore')/12\n",
    "complete_pd[\"murmur\"]= [1 if p==1 else -1 if a==1 else 0 for p,a  in zip(complete_pd.Present, complete_pd.Absent)]\n",
    "complete_pd[\"is_pregnant\"] = complete_pd[\"is_pregnant\"].apply(lambda x: 0 if x==\"False\" else 1)\n",
    "\n",
    "# Get recordings length\n",
    "for c in complete_pd.columns:\n",
    "    if \"location\" in c and \"length\" not in c:\n",
    "        complete_pd[c].loc[complete_pd[c].isnull()] = complete_pd[c].loc[complete_pd[c].isnull()].apply(lambda x: [])\n",
    "        complete_pd[f\"length_sec_{c}\"] = complete_pd[c].apply(len)/complete_pd['hz'].astype(float).astype(\"Int64\")\n",
    "\n",
    "# Label nans correctly\n",
    "complete_pd = complete_pd.replace(\"nan\", np.nan)\n",
    "\n",
    "# Convert columns\n",
    "complete_pd[\"age\"] = complete_pd[\"age\"].astype(float)\n",
    "complete_pd[\"height\"] = complete_pd[\"height\"].astype(float)\n",
    "complete_pd[\"weight\"] = complete_pd[\"weight\"].astype(float)\n",
    "complete_pd[\"age_year\"] = complete_pd[\"age_year\"].astype(float)\n",
    "complete_pd[\"age_group\"] = complete_pd[\"age_group\"].fillna(\"Unknown\")"
   ]
  },
  {
   "cell_type": "code",
   "execution_count": null,
   "metadata": {},
   "outputs": [],
   "source": [
    "# Save df\n",
    "if not os.path.exists(output_folder):\n",
    "    os.makedirs(output_folder)\n",
    "complete_pd[['id', 'hz', 'num_recordings', 'num_recordings_code', 'age_group', 'age', 'female',\n",
    "       'male', 'height', 'weight', 'is_pregnant', 'Present', 'Unknown',\n",
    "       'Absent', 'Abnormal', 'Normal', 'age_year',\n",
    "       'murmur']].to_csv(f\"{output_folder}complete_pd.csv\", index=False)"
   ]
  },
  {
   "attachments": {},
   "cell_type": "markdown",
   "metadata": {},
   "source": [
    "# 2. Data distributions"
   ]
  },
  {
   "cell_type": "code",
   "execution_count": null,
   "metadata": {},
   "outputs": [],
   "source": [
    "# Descriptive\n",
    "pd.DataFrame(complete_pd.describe())"
   ]
  },
  {
   "cell_type": "code",
   "execution_count": null,
   "metadata": {},
   "outputs": [],
   "source": [
    "# Missing values\n",
    "fig, ax = plt.subplots(figsize=(10,7))\n",
    "sns.heatmap(complete_pd[['age', 'female', 'male', 'height', 'weight', 'is_pregnant', 'murmur']].astype(float).isna(), cbar=False, cmap=\"Greys\", ax=ax)\n",
    "plt.xticks(fontsize=12, rotation=0)\n",
    "ax.set_yticks([])\n",
    "for spine in ax.spines.values():\n",
    "    spine.set_visible(True)\n",
    "\n",
    "# Save\n",
    "fig.tight_layout()\n",
    "fig.savefig(os.path.join(output_folder, \"missing_values.pdf\"), format='pdf')"
   ]
  },
  {
   "cell_type": "code",
   "execution_count": null,
   "metadata": {},
   "outputs": [],
   "source": [
    "# Missing values if age is missing\n",
    "fig, ax = plt.subplots(figsize=(10,7))\n",
    "sns.heatmap(complete_pd.loc[complete_pd.age.isnull(),:].isnull(), cbar=False, cmap=\"Greys\", ax=ax)"
   ]
  },
  {
   "cell_type": "code",
   "execution_count": null,
   "metadata": {},
   "outputs": [],
   "source": [
    "# Weight\n",
    "fig, ax = plt.subplots(figsize=(10,7))\n",
    "sns.histplot(complete_pd.weight.astype(float), bins=20)"
   ]
  },
  {
   "cell_type": "code",
   "execution_count": null,
   "metadata": {},
   "outputs": [],
   "source": [
    "# Height\n",
    "fig, ax = plt.subplots(figsize=(10,7))\n",
    "sns.histplot(complete_pd[\"height\"].astype(float), bins=20)"
   ]
  },
  {
   "cell_type": "code",
   "execution_count": null,
   "metadata": {},
   "outputs": [],
   "source": [
    "complete_pd[\"age_group\"].unique()"
   ]
  },
  {
   "cell_type": "code",
   "execution_count": null,
   "metadata": {},
   "outputs": [],
   "source": [
    "# Height, weight\n",
    "fig, ax = plt.subplots(figsize=(20,12))\n",
    "sns.set(font_scale=2.0)\n",
    "sns.set_style(\"whitegrid\")\n",
    "plt.rcParams['font.size'] = 25\n",
    "sns.scatterplot(x=\"weight\", y=\"height\", hue=\"age_group\", data=complete_pd, hue_order=['Unknown', 'Adolescent', 'Child', 'Infant', 'Neonate'], s=120)\n",
    "ax.set(xlabel='Weight [kg]', ylabel='Height [cm]')"
   ]
  },
  {
   "cell_type": "code",
   "execution_count": null,
   "metadata": {},
   "outputs": [],
   "source": [
    "# Save\n",
    "fig.tight_layout()\n",
    "fig.savefig(os.path.join(output_folder, \"training_age_weight_height.pdf\"), format='pdf')"
   ]
  },
  {
   "cell_type": "code",
   "execution_count": null,
   "metadata": {},
   "outputs": [],
   "source": [
    "# Height, weight\n",
    "fig, ax = plt.subplots(figsize=(10,7))\n",
    "sns.scatterplot(x=\"weight\", y=\"height\", hue=\"female\", data=complete_pd)"
   ]
  },
  {
   "cell_type": "code",
   "execution_count": null,
   "metadata": {},
   "outputs": [],
   "source": [
    "# Age\n",
    "fig, ax = plt.subplots(figsize=(10,7))\n",
    "sns.histplot(complete_pd.age_year, bins=50)"
   ]
  },
  {
   "cell_type": "code",
   "execution_count": null,
   "metadata": {},
   "outputs": [],
   "source": [
    "# Labels\n",
    "pd.crosstab([complete_pd.Abnormal, complete_pd.Normal], [complete_pd.Present, complete_pd.Unknown, complete_pd.Absent, complete_pd.murmur])"
   ]
  },
  {
   "attachments": {},
   "cell_type": "markdown",
   "metadata": {},
   "source": [
    "# 3. Recordings"
   ]
  },
  {
   "cell_type": "code",
   "execution_count": null,
   "metadata": {},
   "outputs": [],
   "source": [
    "location_names = [\"AV\", \"MV\", \"PV\", \"Phc\", \"TV\"]\n",
    "dic_aux = {}\n",
    "for l in location_names:\n",
    "    dic_aux[l] = [0 if isinstance(v, float) else len(v)/4000 for v in complete_pd[l]]\n",
    "df_lengths = pd.DataFrame({\"length_sec\": [item for sublist in dic_aux.values() for item in sublist], \"murmur\": list(complete_pd.murmur)*len(location_names)})\n",
    "df_lengths[\"length_sec\"] = df_lengths[\"length_sec\"].astype(float)"
   ]
  },
  {
   "cell_type": "code",
   "execution_count": null,
   "metadata": {},
   "outputs": [],
   "source": [
    "# Length\n",
    "fig, ax = plt.subplots(figsize=(10,5),nrows=1)\n",
    "sns.histplot(df_lengths, x=\"length_sec\", hue=\"murmur\", ax=ax, stat=\"count\", bins=[0,5,10,15,20,25,30,35,40,50,60,70])"
   ]
  },
  {
   "cell_type": "code",
   "execution_count": null,
   "metadata": {},
   "outputs": [],
   "source": [
    "# Num recordings\n",
    "fig, ax = plt.subplots(figsize=(10,5),nrows=1)\n",
    "sns.histplot(complete_pd, x=\"num_recordings\", hue=\"murmur\", ax=ax, stat=\"count\", binrange=[0,6], binwidth=1)"
   ]
  },
  {
   "attachments": {},
   "cell_type": "markdown",
   "metadata": {},
   "source": [
    "# 4. Pascal data"
   ]
  },
  {
   "cell_type": "code",
   "execution_count": null,
   "metadata": {},
   "outputs": [],
   "source": [
    "# Define folders\n",
    "normal_folder = \"/Users/felixkrones/python_projects/data/physionet_challenge_2022/pascal/Training B Normal\"\n",
    "murmur_folder = \"/Users/felixkrones/python_projects/data/physionet_challenge_2022/pascal/Btraining_murmur\"\n",
    "extrastole_folder = \"/Users/felixkrones/python_projects/data/physionet_challenge_2022/pascal/Btraining_extrastole/\"\n",
    "output_folder = \"data/e_challenge_anaylsis/\""
   ]
  },
  {
   "cell_type": "code",
   "execution_count": null,
   "metadata": {},
   "outputs": [],
   "source": [
    "# Get all paths\n",
    "normal_paths = [os.path.join(normal_folder, f) for f in os.listdir(normal_folder) if \".wav\" in f]\n",
    "murmur_paths = [os.path.join(murmur_folder, f) for f in os.listdir(murmur_folder) if \".wav\" in f]\n",
    "extrastole_paths = [os.path.join(extrastole_folder, f) for f in os.listdir(extrastole_folder) if \".wav\" in f]"
   ]
  },
  {
   "cell_type": "code",
   "execution_count": null,
   "metadata": {},
   "outputs": [],
   "source": [
    "# Combine in dataframe\n",
    "df_pascal = pd.DataFrame({\"path\": normal_paths + murmur_paths + extrastole_paths, \"label\": [\"normal\"]*len(normal_paths) + [\"murmur\"]*len(murmur_paths) + [\"extrastole\"]*len(extrastole_paths)})\n",
    "df_pascal[\"rec_length\"] = np.nan\n",
    "df_pascal[\"frequency\"] = np.nan\n",
    "df_pascal[\"rec_duration_sec\"] = np.nan\n",
    "df_pascal[\"recording\"] = np.nan\n",
    "df_pascal[\"recording\"] = df_pascal[\"recording\"].astype(object)\n",
    "for i in range(len(df_pascal)):\n",
    "    recording, frequency = load_wav_file(df_pascal.path.iloc[i])\n",
    "    df_pascal[\"rec_length\"].iloc[i] = len(recording)\n",
    "    df_pascal[\"frequency\"].iloc[i] = frequency\n",
    "    df_pascal[\"rec_duration_sec\"].iloc[i] = len(recording)/frequency\n",
    "    df_pascal[\"recording\"].iloc[i] = recording\n",
    "\n",
    "# Save df\n",
    "df_pascal.to_csv(f\"{output_folder_pascal}df_pascal.csv\", index=False)"
   ]
  },
  {
   "cell_type": "code",
   "execution_count": null,
   "metadata": {},
   "outputs": [],
   "source": [
    "df_pascal.head(2)"
   ]
  },
  {
   "cell_type": "code",
   "execution_count": null,
   "metadata": {},
   "outputs": [],
   "source": [
    "# Distribution of labels\n",
    "pd.crosstab([df_pascal.label], [df_pascal.label])"
   ]
  },
  {
   "cell_type": "code",
   "execution_count": null,
   "metadata": {},
   "outputs": [],
   "source": [
    "# Length\n",
    "fig, ax = plt.subplots(figsize=(10,5),nrows=1)\n",
    "sns.set(font_scale=1.5)\n",
    "sns.set_style(\"white\")\n",
    "plt.rcParams['font.size'] = 15\n",
    "sns.histplot(df_pascal, x=\"rec_duration_sec\", hue=\"label\", ax=ax, stat=\"count\", bins=[0,2.5,5,7.5,10,12.5,15,17.5,20,22.5,25])\n",
    "ax.set(xlabel='Recording duration [sec]')"
   ]
  },
  {
   "cell_type": "code",
   "execution_count": null,
   "metadata": {},
   "outputs": [],
   "source": [
    "df_pascal[df_pascal.label==\"extrastole\"].rec_duration_sec.describe()"
   ]
  },
  {
   "cell_type": "code",
   "execution_count": null,
   "metadata": {},
   "outputs": [],
   "source": [
    "print(np.max([np.max(i) for i in df_pascal.recording]))\n",
    "print(np.min([np.min(i) for i in df_pascal.recording]))"
   ]
  },
  {
   "attachments": {},
   "cell_type": "markdown",
   "metadata": {},
   "source": [
    "# 5. 2016 Challenge"
   ]
  },
  {
   "cell_type": "code",
   "execution_count": 1,
   "metadata": {},
   "outputs": [],
   "source": [
    "# Initiate if not already done\n",
    "import os\n",
    "import pandas as pd\n",
    "import numpy as np\n",
    "from matplotlib import pyplot as plt\n",
    "import seaborn as sns\n",
    "from scipy import stats\n",
    "\n",
    "from DataProcessing.helper_code import *"
   ]
  },
  {
   "cell_type": "code",
   "execution_count": 2,
   "metadata": {},
   "outputs": [],
   "source": [
    "# Define folders\n",
    "annotation_file = \"/Users/felixkrones/python_projects/data/physionet_challenge_2022/pyc2016/annotations/annotations.csv\"\n",
    "data_dir = \"/Users/felixkrones/python_projects/data/physionet_challenge_2022/pyc2016/\"\n",
    "output_folder = \"data/e_challenge_anaylsis/\""
   ]
  },
  {
   "cell_type": "code",
   "execution_count": 3,
   "metadata": {},
   "outputs": [
    {
     "name": "stdout",
     "output_type": "stream",
     "text": [
      "Number of recordings: 3153\n",
      "Number of recordings with metadata: 31\n"
     ]
    }
   ],
   "source": [
    "# Load data\n",
    "pd_annotations = pd.read_csv(annotation_file)\n",
    "all_recordings = [os.path.join(data_dir, f) for f in pd_annotations.path_rel]\n",
    "pd_annotations[\"path\"] = all_recordings\n",
    "metadata_recordings = [f for f in pd_annotations[pd_annotations[\"Height (cm)\"]>0][\"path\"]]\n",
    "pd_annotations[\"metadata_flag\"] = [1 if f in metadata_recordings else 0 for f in all_recordings]\n",
    "print(f\"Number of recordings: {len(all_recordings)}\")\n",
    "print(f\"Number of recordings with metadata: {len(metadata_recordings)}\")"
   ]
  },
  {
   "cell_type": "code",
   "execution_count": 4,
   "metadata": {},
   "outputs": [],
   "source": [
    "# Load recordings\n",
    "pd_annotations[\"rec_length\"] = np.nan\n",
    "pd_annotations[\"frequency\"] = np.nan\n",
    "pd_annotations[\"rec_duration_sec\"] = np.nan\n",
    "pd_annotations[\"recording\"] = np.nan\n",
    "pd_annotations[\"recording\"] = pd_annotations[\"recording\"].astype(object)\n",
    "for i in range(len(pd_annotations)):\n",
    "    recording, frequency = load_wav_file(pd_annotations[\"path\"].iloc[i])\n",
    "    pd_annotations.at[i, \"rec_length\"] = len(recording)\n",
    "    pd_annotations.at[i, \"frequency\"] = frequency\n",
    "    pd_annotations.at[i, \"rec_duration_sec\"] = len(recording)/frequency\n",
    "    pd_annotations.at[i, \"recording\"] = recording\n",
    "\n",
    "# Normalise recordings\n",
    "pd_annotations[\"recording\"] = [i/32768 for i in pd_annotations.recording]\n",
    "\n",
    "# Save df\n",
    "if not os.path.exists(output_folder):\n",
    "    os.makedirs(output_folder)\n",
    "pd_annotations.to_csv(os.path.join(output_folder, \"2016_challenge_annotations.csv\"), index=False)"
   ]
  },
  {
   "cell_type": "code",
   "execution_count": null,
   "metadata": {},
   "outputs": [],
   "source": [
    "# Recording stats\n",
    "pd_annotations[\"rec_duration_sec\"].describe()"
   ]
  },
  {
   "cell_type": "code",
   "execution_count": null,
   "metadata": {},
   "outputs": [],
   "source": [
    "pd_annotations[pd_annotations[\"rec_duration_sec\"]>100][\"rec_duration_sec\"].describe()"
   ]
  },
  {
   "cell_type": "code",
   "execution_count": null,
   "metadata": {},
   "outputs": [],
   "source": [
    "# Plot\n",
    "fig, ax = plt.subplots(figsize=(10,5),nrows=1)\n",
    "sns.set(font_scale=1.5)\n",
    "sns.set_style(\"whitegrid\")\n",
    "plt.rcParams['font.size'] = 15\n",
    "sns.histplot(pd_annotations, x=\"rec_duration_sec\", hue=\"label\", ax=ax, stat=\"count\", bins=[0,5,10,15,20,25,30,35,40,45,50,55,60,80,100,120,140])\n",
    "ax.set(xlabel='Recording duration [sec]')"
   ]
  },
  {
   "cell_type": "code",
   "execution_count": null,
   "metadata": {},
   "outputs": [],
   "source": [
    "# Save\n",
    "fig.tight_layout()\n",
    "fig.savefig(os.path.join(output_folder, \"2016_length.pdf\"), format='pdf')"
   ]
  },
  {
   "cell_type": "code",
   "execution_count": null,
   "metadata": {},
   "outputs": [],
   "source": [
    "# T-Test\n",
    "# Separate the rec_duration_sec data based on label values\n",
    "group1 = pd_annotations[pd_annotations['label'] == 'Abnormal']['rec_duration_sec']\n",
    "group2 = pd_annotations[pd_annotations['label'] == 'Normal']['rec_duration_sec']\n",
    "\n",
    "# Perform t-test\n",
    "t_statistic, p_value = stats.ttest_ind(group1, group2)\n",
    "\n",
    "print(f\"Number of abnormal recordings: {len(group1)}\")\n",
    "print(f\"Number of normal recordings: {len(group2)}\")\n",
    "print(f\"Average recording duration for abnormal recordings: {round(np.mean(group1),4)} sec\")\n",
    "print(f\"Average recording duration for normal recordings: {round(np.mean(group2),4)} sec\")\n",
    "print(\"T statistic:\", round(t_statistic,4))\n",
    "print(\"P value:\", p_value)"
   ]
  },
  {
   "cell_type": "code",
   "execution_count": null,
   "metadata": {},
   "outputs": [],
   "source": [
    "# Compare recordings\n",
    "print(\"Training set:\")\n",
    "print(np.min(complete_pd[\"MV\"][0]))\n",
    "print(np.mean(complete_pd[\"MV\"][0]))\n",
    "print(np.max(complete_pd[\"MV\"][0]))\n",
    "print(\"Test set:\")\n",
    "print(np.min(pd_annotations[\"recording\"][0]))\n",
    "print(np.mean(pd_annotations[\"recording\"][0]))\n",
    "print(np.max(pd_annotations[\"recording\"][0]))"
   ]
  },
  {
   "cell_type": "code",
   "execution_count": null,
   "metadata": {},
   "outputs": [],
   "source": [
    "# plot both recordings, complete_pd[\"MV\"][0] and pd_annotations[\"recording\"][0]\n",
    "fig, ax = plt.subplots(figsize=(10,5),nrows=1)\n",
    "sns.set(font_scale=1.5)\n",
    "sns.set_style(\"whitegrid\")\n",
    "plt.rcParams['font.size'] = 15\n",
    "sns.lineplot(data=complete_pd[\"MV\"][0], ax=ax, color=\"blue\")\n",
    "sns.lineplot(data=pd_annotations[\"recording\"][0], ax=ax, color=\"red\")\n",
    "ax.set(xlabel='Time [sec]', ylabel='Amplitude')\n",
    "ax.legend([\"Training set\", \"Test set\"])"
   ]
  },
  {
   "cell_type": "code",
   "execution_count": null,
   "metadata": {},
   "outputs": [],
   "source": []
  }
 ],
 "metadata": {
  "interpreter": {
   "hash": "b7630c8dc18f3de06d2e7ab4d24bccf1c95f37b8dcca25f1c268f63eb95db59c"
  },
  "kernelspec": {
   "display_name": "Python 3.10.4 ('physionet_challenge_2022-qOGfeysN')",
   "language": "python",
   "name": "python3"
  },
  "language_info": {
   "codemirror_mode": {
    "name": "ipython",
    "version": 3
   },
   "file_extension": ".py",
   "mimetype": "text/x-python",
   "name": "python",
   "nbconvert_exporter": "python",
   "pygments_lexer": "ipython3",
   "version": "3.9.16"
  },
  "orig_nbformat": 4
 },
 "nbformat": 4,
 "nbformat_minor": 2
}
