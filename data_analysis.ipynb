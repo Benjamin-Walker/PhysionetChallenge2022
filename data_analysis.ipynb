{
 "cells": [
  {
   "cell_type": "code",
   "execution_count": null,
   "metadata": {},
   "outputs": [],
   "source": [
    "%load_ext nb_black"
   ]
  },
  {
   "attachments": {},
   "cell_type": "markdown",
   "metadata": {},
   "source": [
    "# 0. Initiate"
   ]
  },
  {
   "cell_type": "code",
   "execution_count": 25,
   "metadata": {},
   "outputs": [],
   "source": [
    "# Load packages\n",
    "import os\n",
    "import matplotlib.pyplot as plt\n",
    "import seaborn as sns\n",
    "import numpy as np\n",
    "import pandas as pd\n",
    "import random\n",
    "import scipy as sp\n",
    "from scipy.io.wavfile import write\n",
    "from tqdm import tqdm\n",
    "import librosa\n",
    "import librosa.display\n",
    "import math\n",
    "\n",
    "import warnings\n",
    "warnings.simplefilter(action=\"ignore\")\n",
    "\n",
    "from HumBugDB.LogMelSpecs.compute_LogMelSpecs import waveform_to_examples\n",
    "from DataProcessing.XGBoost_features.metadata import *\n",
    "from DataProcessing.helper_code import *\n",
    "from DataProcessing.find_and_load_patient_files import *\n",
    "from DataProcessing.label_extraction import *"
   ]
  },
  {
   "cell_type": "code",
   "execution_count": 26,
   "metadata": {},
   "outputs": [],
   "source": [
    "# Define paths\n",
    "data_folder = \"/Users/felixkrones/python_projects/data/physionet_challenge_2022/physionet.org/files/circor-heart-sound/1.0.3/training_data\"\n",
    "output_folder = \"data/challenge_anaylsis/\""
   ]
  },
  {
   "cell_type": "code",
   "execution_count": 27,
   "metadata": {},
   "outputs": [],
   "source": [
    "def get_features(data, recordings):\n",
    "    # Extract the age group and replace with the (approximate) number of months for the middle of the age group.\n",
    "    age_group = get_age(data)\n",
    "\n",
    "    if compare_strings(age_group, 'Neonate'):\n",
    "        age = 0.5\n",
    "    elif compare_strings(age_group, 'Infant'):\n",
    "        age = 6\n",
    "    elif compare_strings(age_group, 'Child'):\n",
    "        age = 6 * 12\n",
    "    elif compare_strings(age_group, 'Adolescent'):\n",
    "        age = 15 * 12\n",
    "    elif compare_strings(age_group, 'Young Adult'):\n",
    "        age = 20 * 12\n",
    "    else:\n",
    "        age = float('nan')\n",
    "\n",
    "    # Extract sex. Use one-hot encoding.\n",
    "    sex = get_sex(data)\n",
    "\n",
    "    sex_features = np.zeros(2, dtype=int)\n",
    "    if compare_strings(sex, 'Female'):\n",
    "        sex_features[0] = 1\n",
    "    elif compare_strings(sex, 'Male'):\n",
    "        sex_features[1] = 1\n",
    "\n",
    "    # Extract height and weight.\n",
    "    height = get_height(data)\n",
    "    weight = get_weight(data)\n",
    "\n",
    "    # Extract pregnancy status.\n",
    "    is_pregnant = get_pregnancy_status(data)\n",
    "\n",
    "    # Extract recording locations and data. Identify when a location is present, and compute the mean, variance, and skewness of\n",
    "    # each recording. If there are multiple recordings for one location, then extract features from the last recording.\n",
    "    locations = get_locations(data)\n",
    "\n",
    "    recording_locations = ['AV', 'MV', 'PV', 'TV', 'PhC']\n",
    "    num_recording_locations = len(recording_locations)\n",
    "    recording_features = np.zeros((num_recording_locations, 4), dtype=float)\n",
    "    num_locations = len(locations)\n",
    "    num_recordings = len(recordings)\n",
    "    if num_locations==num_recordings:\n",
    "        for i in range(num_locations):\n",
    "            for j in range(num_recording_locations):\n",
    "                if compare_strings(locations[i], recording_locations[j]) and np.size(recordings[i])>0:\n",
    "                    recording_features[j, 0] = 1\n",
    "                    recording_features[j, 1] = np.mean(recordings[i])\n",
    "                    recording_features[j, 2] = np.var(recordings[i])\n",
    "                    recording_features[j, 3] = sp.stats.skew(recordings[i])\n",
    "    recording_features = recording_features.flatten()\n",
    "\n",
    "    features = np.hstack(([age_group], [age], sex_features, [height], [weight], [is_pregnant], recording_features))\n",
    "\n",
    "    return np.asarray(features)"
   ]
  },
  {
   "cell_type": "code",
   "execution_count": 28,
   "metadata": {},
   "outputs": [],
   "source": [
    "# Load recordings.\n",
    "def load_recordings(data_folder, data, get_frequencies=False):\n",
    "    num_locations = get_num_locations(data)\n",
    "    recording_information = data.split('\\n')[1:num_locations+1]\n",
    "\n",
    "    recordings = list()\n",
    "    locations = list()\n",
    "    frequencies = list()\n",
    "    for i in range(num_locations):\n",
    "        entries = recording_information[i].split(' ')\n",
    "        recording_file = entries[2]\n",
    "        filename = os.path.join(data_folder, recording_file)\n",
    "        recording, frequency = load_wav_file(filename)\n",
    "        recordings.append(recording)\n",
    "        locations.append(entries[0])\n",
    "        frequencies.append(frequency)\n",
    "\n",
    "    if get_frequencies:\n",
    "        return recordings, locations, frequencies\n",
    "    else:\n",
    "        return recordings, locations"
   ]
  },
  {
   "attachments": {},
   "cell_type": "markdown",
   "metadata": {},
   "source": [
    "# 1. Load data"
   ]
  },
  {
   "cell_type": "code",
   "execution_count": 29,
   "metadata": {},
   "outputs": [
    {
     "name": "stdout",
     "output_type": "stream",
     "text": [
      "Extracting features from patient data...\n"
     ]
    },
    {
     "name": "stderr",
     "output_type": "stream",
     "text": [
      "100%|██████████| 942/942 [00:03<00:00, 286.02it/s]\n"
     ]
    },
    {
     "name": "stdout",
     "output_type": "stream",
     "text": [
      "Combining dataframes...\n"
     ]
    },
    {
     "name": "stderr",
     "output_type": "stream",
     "text": [
      "100%|██████████| 942/942 [00:00<00:00, 3009.49it/s]\n"
     ]
    }
   ],
   "source": [
    " # Find the patient data files.\n",
    "patient_files = find_patient_files(data_folder)\n",
    "num_patient_files = len(patient_files)\n",
    "\n",
    "murmur_classes = ['Present', 'Unknown', 'Absent']\n",
    "num_murmur_classes = len(murmur_classes)\n",
    "outcome_classes = ['Abnormal', 'Normal']\n",
    "num_outcome_classes = len(outcome_classes)\n",
    "features = list()\n",
    "murmurs = list()\n",
    "outcomes = list()\n",
    "recordings = list()\n",
    "locations = list()\n",
    "print(\"Extracting features from patient data...\")\n",
    "for i in tqdm(range(num_patient_files)):\n",
    "\n",
    "    # Load the current patient data and recordings.\n",
    "    current_patient_data = load_patient_data(patient_files[i])\n",
    "    current_recordings, current_locations = load_recordings(data_folder, current_patient_data)\n",
    "    current_recordings = [r / 32768 for r in current_recordings]\n",
    "    num_recordings_code = get_num_locations(current_patient_data)\n",
    "    num_recordings = len(current_recordings)\n",
    "    recordings.append(current_recordings)\n",
    "    locations.append(current_locations)\n",
    "\n",
    "    # Extract features.\n",
    "    current_features = get_features(current_patient_data, current_recordings)\n",
    "    current_features = np.insert(current_features,0,current_patient_data.split(\" \")[0])\n",
    "    current_features = np.insert(current_features,1,current_patient_data.split(\" \")[2][:-3])\n",
    "    current_features = np.insert(current_features,2,num_recordings)\n",
    "    current_features = np.insert(current_features,3,num_recordings_code)\n",
    "    features.append(current_features)\n",
    "\n",
    "    # Extract labels and use one-hot encoding.\n",
    "    ## Murmur\n",
    "    current_murmur = np.zeros(num_murmur_classes, dtype=int)\n",
    "    murmur = get_murmur(current_patient_data)\n",
    "    if murmur in murmur_classes:\n",
    "        j = murmur_classes.index(murmur)\n",
    "        current_murmur[j] = 1\n",
    "    murmurs.append(current_murmur)\n",
    "    ## Outcome\n",
    "    current_outcome = np.zeros(num_outcome_classes, dtype=int)\n",
    "    outcome = get_outcome(current_patient_data)\n",
    "    if outcome in outcome_classes:\n",
    "        j = outcome_classes.index(outcome)\n",
    "        current_outcome[j] = 1\n",
    "    outcomes.append(current_outcome)\n",
    "\n",
    "features = np.vstack(features)\n",
    "murmurs = np.vstack(murmurs)\n",
    "outcomes = np.vstack(outcomes)\n",
    "\n",
    "# Combine dataframes\n",
    "print(\"Combining dataframes...\")\n",
    "assert len(recordings) == len(locations)\n",
    "features_pd = pd.DataFrame(features, columns=[\"id\", \"hz\", \"num_recordings\", \"num_recordings_code\", \"age_group\", \"age\", \"female\", \"male\", \"height\", \"weight\", \"is_pregnant\"]+[f\"standard_recording_features_{i}_{t}\" for t in [\"1\", \"mean\", \"var\", \"skew\"] for i in range(5)])#+[f\"signatures{i}\" for i in range(len(features[0])-12)])\n",
    "murmurs_pd = pd.DataFrame(murmurs, columns=murmur_classes)\n",
    "outcomes_pd = pd.DataFrame(outcomes, columns=outcome_classes)\n",
    "recordings_pd = pd.DataFrame(columns=np.unique([item for sublist in locations for item in sublist]))\n",
    "for i in tqdm(range(len(locations))):\n",
    "    dict_data = {locations[i][j]: [recordings[i][j]] for j in range(len(locations[i]))}\n",
    "    temp_df = pd.DataFrame(dict_data)\n",
    "    recordings_pd = pd.concat([recordings_pd, temp_df], ignore_index=True)\n",
    "complete_pd = pd.concat([features_pd.loc[:, [c for c in features_pd.columns if \"standard_recording_features_\" not in c]], murmurs_pd, outcomes_pd, recordings_pd], axis=1)\n",
    "\n",
    "# Prep\n",
    "features_pd[\"age_year\"] = features_pd['age'].astype(float).astype(int, errors='ignore')/12\n",
    "complete_pd[\"age_year\"] = complete_pd['age'].astype(float).astype(int, errors='ignore')/12\n",
    "complete_pd[\"murmur\"]= [1 if p==1 else -1 if a==1 else 0 for p,a  in zip(complete_pd.Present, complete_pd.Absent)]\n",
    "complete_pd[\"is_pregnant\"] = complete_pd[\"is_pregnant\"].apply(lambda x: 0 if x==\"False\" else 1)\n",
    "\n",
    "# Get recordings length\n",
    "for c in complete_pd.columns:\n",
    "    if \"location\" in c and \"length\" not in c:\n",
    "        complete_pd[c].loc[complete_pd[c].isnull()] = complete_pd[c].loc[complete_pd[c].isnull()].apply(lambda x: [])\n",
    "        complete_pd[f\"length_sec_{c}\"] = complete_pd[c].apply(len)/complete_pd['hz'].astype(float).astype(\"Int64\")\n",
    "\n",
    "# Label nans correctly\n",
    "complete_pd = complete_pd.replace(\"nan\", np.nan)\n",
    "\n",
    "# Convert columns\n",
    "complete_pd[\"age\"] = complete_pd[\"age\"].astype(float)\n",
    "complete_pd[\"height\"] = complete_pd[\"height\"].astype(float)\n",
    "complete_pd[\"weight\"] = complete_pd[\"weight\"].astype(float)\n",
    "complete_pd[\"age_year\"] = complete_pd[\"age_year\"].astype(float)\n",
    "complete_pd[\"age_group\"] = complete_pd[\"age_group\"].fillna(\"Unknown\")"
   ]
  },
  {
   "cell_type": "code",
   "execution_count": 30,
   "metadata": {},
   "outputs": [],
   "source": [
    "# Save df\n",
    "if not os.path.exists(output_folder):\n",
    "    os.makedirs(output_folder)\n",
    "complete_pd[['id', 'hz', 'num_recordings', 'num_recordings_code', 'age_group', 'age', 'female',\n",
    "       'male', 'height', 'weight', 'is_pregnant', 'Present', 'Unknown',\n",
    "       'Absent', 'Abnormal', 'Normal', 'age_year',\n",
    "       'murmur']].to_csv(f\"{output_folder}complete_pd.csv\", index=False)"
   ]
  },
  {
   "attachments": {},
   "cell_type": "markdown",
   "metadata": {},
   "source": [
    "# 2. Data distributions"
   ]
  },
  {
   "cell_type": "code",
   "execution_count": 31,
   "metadata": {},
   "outputs": [
    {
     "data": {
      "text/html": [
       "<div>\n",
       "<style scoped>\n",
       "    .dataframe tbody tr th:only-of-type {\n",
       "        vertical-align: middle;\n",
       "    }\n",
       "\n",
       "    .dataframe tbody tr th {\n",
       "        vertical-align: top;\n",
       "    }\n",
       "\n",
       "    .dataframe thead th {\n",
       "        text-align: right;\n",
       "    }\n",
       "</style>\n",
       "<table border=\"1\" class=\"dataframe\">\n",
       "  <thead>\n",
       "    <tr style=\"text-align: right;\">\n",
       "      <th></th>\n",
       "      <th>age</th>\n",
       "      <th>height</th>\n",
       "      <th>weight</th>\n",
       "      <th>is_pregnant</th>\n",
       "      <th>Present</th>\n",
       "      <th>Unknown</th>\n",
       "      <th>Absent</th>\n",
       "      <th>Abnormal</th>\n",
       "      <th>Normal</th>\n",
       "      <th>age_year</th>\n",
       "      <th>murmur</th>\n",
       "    </tr>\n",
       "  </thead>\n",
       "  <tbody>\n",
       "    <tr>\n",
       "      <th>count</th>\n",
       "      <td>868.000000</td>\n",
       "      <td>826.000000</td>\n",
       "      <td>837.000000</td>\n",
       "      <td>942.000000</td>\n",
       "      <td>942.000000</td>\n",
       "      <td>942.000000</td>\n",
       "      <td>942.000000</td>\n",
       "      <td>942.000000</td>\n",
       "      <td>942.000000</td>\n",
       "      <td>868.000000</td>\n",
       "      <td>942.000000</td>\n",
       "    </tr>\n",
       "    <tr>\n",
       "      <th>mean</th>\n",
       "      <td>70.883641</td>\n",
       "      <td>110.800242</td>\n",
       "      <td>23.632756</td>\n",
       "      <td>0.074310</td>\n",
       "      <td>0.190021</td>\n",
       "      <td>0.072187</td>\n",
       "      <td>0.737792</td>\n",
       "      <td>0.484076</td>\n",
       "      <td>0.515924</td>\n",
       "      <td>5.906970</td>\n",
       "      <td>-0.547771</td>\n",
       "    </tr>\n",
       "    <tr>\n",
       "      <th>std</th>\n",
       "      <td>40.445269</td>\n",
       "      <td>30.000607</td>\n",
       "      <td>15.453337</td>\n",
       "      <td>0.262414</td>\n",
       "      <td>0.392526</td>\n",
       "      <td>0.258934</td>\n",
       "      <td>0.440069</td>\n",
       "      <td>0.500012</td>\n",
       "      <td>0.500012</td>\n",
       "      <td>3.370439</td>\n",
       "      <td>0.792734</td>\n",
       "    </tr>\n",
       "    <tr>\n",
       "      <th>min</th>\n",
       "      <td>0.500000</td>\n",
       "      <td>35.000000</td>\n",
       "      <td>2.300000</td>\n",
       "      <td>0.000000</td>\n",
       "      <td>0.000000</td>\n",
       "      <td>0.000000</td>\n",
       "      <td>0.000000</td>\n",
       "      <td>0.000000</td>\n",
       "      <td>0.000000</td>\n",
       "      <td>0.041667</td>\n",
       "      <td>-1.000000</td>\n",
       "    </tr>\n",
       "    <tr>\n",
       "      <th>25%</th>\n",
       "      <td>72.000000</td>\n",
       "      <td>89.000000</td>\n",
       "      <td>12.500000</td>\n",
       "      <td>0.000000</td>\n",
       "      <td>0.000000</td>\n",
       "      <td>0.000000</td>\n",
       "      <td>0.000000</td>\n",
       "      <td>0.000000</td>\n",
       "      <td>0.000000</td>\n",
       "      <td>6.000000</td>\n",
       "      <td>-1.000000</td>\n",
       "    </tr>\n",
       "    <tr>\n",
       "      <th>50%</th>\n",
       "      <td>72.000000</td>\n",
       "      <td>115.000000</td>\n",
       "      <td>20.400000</td>\n",
       "      <td>0.000000</td>\n",
       "      <td>0.000000</td>\n",
       "      <td>0.000000</td>\n",
       "      <td>1.000000</td>\n",
       "      <td>0.000000</td>\n",
       "      <td>1.000000</td>\n",
       "      <td>6.000000</td>\n",
       "      <td>-1.000000</td>\n",
       "    </tr>\n",
       "    <tr>\n",
       "      <th>75%</th>\n",
       "      <td>72.000000</td>\n",
       "      <td>133.000000</td>\n",
       "      <td>31.200000</td>\n",
       "      <td>0.000000</td>\n",
       "      <td>0.000000</td>\n",
       "      <td>0.000000</td>\n",
       "      <td>1.000000</td>\n",
       "      <td>1.000000</td>\n",
       "      <td>1.000000</td>\n",
       "      <td>6.000000</td>\n",
       "      <td>0.000000</td>\n",
       "    </tr>\n",
       "    <tr>\n",
       "      <th>max</th>\n",
       "      <td>180.000000</td>\n",
       "      <td>180.000000</td>\n",
       "      <td>110.800000</td>\n",
       "      <td>1.000000</td>\n",
       "      <td>1.000000</td>\n",
       "      <td>1.000000</td>\n",
       "      <td>1.000000</td>\n",
       "      <td>1.000000</td>\n",
       "      <td>1.000000</td>\n",
       "      <td>15.000000</td>\n",
       "      <td>1.000000</td>\n",
       "    </tr>\n",
       "  </tbody>\n",
       "</table>\n",
       "</div>"
      ],
      "text/plain": [
       "              age      height      weight  is_pregnant     Present   \n",
       "count  868.000000  826.000000  837.000000   942.000000  942.000000  \\\n",
       "mean    70.883641  110.800242   23.632756     0.074310    0.190021   \n",
       "std     40.445269   30.000607   15.453337     0.262414    0.392526   \n",
       "min      0.500000   35.000000    2.300000     0.000000    0.000000   \n",
       "25%     72.000000   89.000000   12.500000     0.000000    0.000000   \n",
       "50%     72.000000  115.000000   20.400000     0.000000    0.000000   \n",
       "75%     72.000000  133.000000   31.200000     0.000000    0.000000   \n",
       "max    180.000000  180.000000  110.800000     1.000000    1.000000   \n",
       "\n",
       "          Unknown      Absent    Abnormal      Normal    age_year      murmur  \n",
       "count  942.000000  942.000000  942.000000  942.000000  868.000000  942.000000  \n",
       "mean     0.072187    0.737792    0.484076    0.515924    5.906970   -0.547771  \n",
       "std      0.258934    0.440069    0.500012    0.500012    3.370439    0.792734  \n",
       "min      0.000000    0.000000    0.000000    0.000000    0.041667   -1.000000  \n",
       "25%      0.000000    0.000000    0.000000    0.000000    6.000000   -1.000000  \n",
       "50%      0.000000    1.000000    0.000000    1.000000    6.000000   -1.000000  \n",
       "75%      0.000000    1.000000    1.000000    1.000000    6.000000    0.000000  \n",
       "max      1.000000    1.000000    1.000000    1.000000   15.000000    1.000000  "
      ]
     },
     "execution_count": 31,
     "metadata": {},
     "output_type": "execute_result"
    }
   ],
   "source": [
    "# Descriptive\n",
    "pd.DataFrame(complete_pd.describe())"
   ]
  },
  {
   "cell_type": "code",
   "execution_count": null,
   "metadata": {},
   "outputs": [],
   "source": [
    "# Missing values\n",
    "fig, ax = plt.subplots(figsize=(10,7))\n",
    "sns.heatmap(complete_pd[['age', 'female', 'male', 'height', 'weight', 'is_pregnant', 'murmur']].astype(float).isna(), cbar=False, cmap=\"Greys\", ax=ax)\n",
    "plt.xticks(fontsize=12, rotation=0)\n",
    "ax.set_yticks([])"
   ]
  },
  {
   "cell_type": "code",
   "execution_count": null,
   "metadata": {},
   "outputs": [],
   "source": [
    "# Missing values if age is missing\n",
    "fig, ax = plt.subplots(figsize=(10,7))\n",
    "sns.heatmap(complete_pd.loc[complete_pd.age.isnull(),:].isnull(), cbar=False, cmap=\"Greys\", ax=ax)"
   ]
  },
  {
   "cell_type": "code",
   "execution_count": null,
   "metadata": {},
   "outputs": [],
   "source": [
    "# Weight\n",
    "fig, ax = plt.subplots(figsize=(10,7))\n",
    "sns.histplot(complete_pd.weight.astype(float), bins=20)"
   ]
  },
  {
   "cell_type": "code",
   "execution_count": null,
   "metadata": {},
   "outputs": [],
   "source": [
    "# Height\n",
    "fig, ax = plt.subplots(figsize=(10,7))\n",
    "sns.histplot(complete_pd[\"height\"].astype(float), bins=20)"
   ]
  },
  {
   "cell_type": "code",
   "execution_count": null,
   "metadata": {},
   "outputs": [],
   "source": [
    "complete_pd[\"age_group\"].unique()"
   ]
  },
  {
   "cell_type": "code",
   "execution_count": null,
   "metadata": {},
   "outputs": [],
   "source": [
    "# Height, weight\n",
    "fig, ax = plt.subplots(figsize=(20,14))\n",
    "sns.set(font_scale=1.8)\n",
    "sns.set_style(\"whitegrid\")\n",
    "plt.rcParams['font.size'] = 20\n",
    "sns.scatterplot(x=\"weight\", y=\"height\", hue=\"age_group\", data=complete_pd, hue_order=['Unknown', 'Adolescent', 'Child', 'Infant', 'Neonate'], s=120)\n",
    "ax.set(xlabel='Weight [kg]', ylabel='Height [cm]')"
   ]
  },
  {
   "cell_type": "code",
   "execution_count": null,
   "metadata": {},
   "outputs": [],
   "source": [
    "# Height, weight\n",
    "fig, ax = plt.subplots(figsize=(10,7))\n",
    "sns.scatterplot(x=\"weight\", y=\"height\", hue=\"female\", data=complete_pd)"
   ]
  },
  {
   "cell_type": "code",
   "execution_count": null,
   "metadata": {},
   "outputs": [],
   "source": [
    "# Age\n",
    "fig, ax = plt.subplots(figsize=(10,7))\n",
    "sns.histplot(complete_pd.age_year, bins=50)"
   ]
  },
  {
   "cell_type": "code",
   "execution_count": null,
   "metadata": {},
   "outputs": [],
   "source": [
    "# Labels\n",
    "pd.crosstab([complete_pd.Abnormal, complete_pd.Normal], [complete_pd.Present, complete_pd.Unknown, complete_pd.Absent, complete_pd.murmur])"
   ]
  },
  {
   "attachments": {},
   "cell_type": "markdown",
   "metadata": {},
   "source": [
    "# 3. Recordings"
   ]
  },
  {
   "cell_type": "code",
   "execution_count": null,
   "metadata": {},
   "outputs": [],
   "source": [
    "location_names = [\"AV\", \"MV\", \"PV\", \"Phc\", \"TV\"]\n",
    "dic_aux = {}\n",
    "for l in location_names:\n",
    "    dic_aux[l] = [0 if isinstance(v, float) else len(v)/4000 for v in complete_pd[l]]\n",
    "df_lengths = pd.DataFrame({\"length_sec\": [item for sublist in dic_aux.values() for item in sublist], \"murmur\": list(complete_pd.murmur)*len(location_names)})\n",
    "df_lengths[\"length_sec\"] = df_lengths[\"length_sec\"].astype(float)"
   ]
  },
  {
   "cell_type": "code",
   "execution_count": null,
   "metadata": {},
   "outputs": [],
   "source": [
    "# Length\n",
    "fig, ax = plt.subplots(figsize=(10,5),nrows=1)\n",
    "sns.histplot(df_lengths, x=\"length_sec\", hue=\"murmur\", ax=ax, stat=\"count\", bins=[0,5,10,15,20,25,30,35,40,50,60,70])"
   ]
  },
  {
   "cell_type": "code",
   "execution_count": null,
   "metadata": {},
   "outputs": [],
   "source": [
    "# Num recordings\n",
    "fig, ax = plt.subplots(figsize=(10,5),nrows=1)\n",
    "sns.histplot(complete_pd, x=\"num_recordings\", hue=\"murmur\", ax=ax, stat=\"count\", binrange=[0,6], binwidth=1)"
   ]
  },
  {
   "attachments": {},
   "cell_type": "markdown",
   "metadata": {},
   "source": [
    "# 4. Pascal data"
   ]
  },
  {
   "cell_type": "code",
   "execution_count": 1,
   "metadata": {},
   "outputs": [],
   "source": [
    "# Define folders\n",
    "normal_folder = \"/Users/felixkrones/python_projects/data/physionet_challenge_2022/pascal/Training B Normal\"\n",
    "murmur_folder = \"/Users/felixkrones/python_projects/data/physionet_challenge_2022/pascal/Btraining_murmur\"\n",
    "extrastole_folder = \"/Users/felixkrones/python_projects/data/physionet_challenge_2022/pascal/Btraining_extrastole/\"\n",
    "output_folder_pascal = \"/Users/felixkrones/python_projects/data/physionet_challenge_2022/pascal/\""
   ]
  },
  {
   "cell_type": "code",
   "execution_count": 3,
   "metadata": {},
   "outputs": [],
   "source": [
    "# Get all paths\n",
    "normal_paths = [os.path.join(normal_folder, f) for f in os.listdir(normal_folder) if \".wav\" in f]\n",
    "murmur_paths = [os.path.join(murmur_folder, f) for f in os.listdir(murmur_folder) if \".wav\" in f]\n",
    "extrastole_paths = [os.path.join(extrastole_folder, f) for f in os.listdir(extrastole_folder) if \".wav\" in f]"
   ]
  },
  {
   "cell_type": "code",
   "execution_count": 4,
   "metadata": {},
   "outputs": [],
   "source": [
    "# Combine in dataframe\n",
    "df_pascal = pd.DataFrame({\"path\": normal_paths + murmur_paths + extrastole_paths, \"label\": [\"normal\"]*len(normal_paths) + [\"murmur\"]*len(murmur_paths) + [\"extrastole\"]*len(extrastole_paths)})\n",
    "df_pascal[\"rec_length\"] = np.nan\n",
    "df_pascal[\"frequency\"] = np.nan\n",
    "df_pascal[\"rec_duration_sec\"] = np.nan\n",
    "df_pascal[\"recording\"] = np.nan\n",
    "df_pascal[\"recording\"] = df_pascal[\"recording\"].astype(object)\n",
    "for i in range(len(df_pascal)):\n",
    "    recording, frequency = load_wav_file(df_pascal.path.iloc[i])\n",
    "    df_pascal[\"rec_length\"].iloc[i] = len(recording)\n",
    "    df_pascal[\"frequency\"].iloc[i] = frequency\n",
    "    df_pascal[\"rec_duration_sec\"].iloc[i] = len(recording)/frequency\n",
    "    df_pascal[\"recording\"].iloc[i] = recording\n",
    "\n",
    "# Save df\n",
    "df_pascal.to_csv(f\"{output_folder_pascal}df_pascal.csv\", index=False)"
   ]
  },
  {
   "cell_type": "code",
   "execution_count": 5,
   "metadata": {},
   "outputs": [
    {
     "data": {
      "text/html": [
       "<div>\n",
       "<style scoped>\n",
       "    .dataframe tbody tr th:only-of-type {\n",
       "        vertical-align: middle;\n",
       "    }\n",
       "\n",
       "    .dataframe tbody tr th {\n",
       "        vertical-align: top;\n",
       "    }\n",
       "\n",
       "    .dataframe thead th {\n",
       "        text-align: right;\n",
       "    }\n",
       "</style>\n",
       "<table border=\"1\" class=\"dataframe\">\n",
       "  <thead>\n",
       "    <tr style=\"text-align: right;\">\n",
       "      <th></th>\n",
       "      <th>path</th>\n",
       "      <th>label</th>\n",
       "      <th>rec_length</th>\n",
       "      <th>frequency</th>\n",
       "      <th>rec_duration_sec</th>\n",
       "      <th>recording</th>\n",
       "    </tr>\n",
       "  </thead>\n",
       "  <tbody>\n",
       "    <tr>\n",
       "      <th>0</th>\n",
       "      <td>/Users/felixkrones/python_projects/data/physio...</td>\n",
       "      <td>normal</td>\n",
       "      <td>6497.0</td>\n",
       "      <td>4000.0</td>\n",
       "      <td>1.62425</td>\n",
       "      <td>[-98, 214, 283, 254, 423, 778, 669, 432, 546, ...</td>\n",
       "    </tr>\n",
       "    <tr>\n",
       "      <th>1</th>\n",
       "      <td>/Users/felixkrones/python_projects/data/physio...</td>\n",
       "      <td>normal</td>\n",
       "      <td>8199.0</td>\n",
       "      <td>4000.0</td>\n",
       "      <td>2.04975</td>\n",
       "      <td>[-935, -919, -777, -513, -95, 23, -57, 20, 117...</td>\n",
       "    </tr>\n",
       "  </tbody>\n",
       "</table>\n",
       "</div>"
      ],
      "text/plain": [
       "                                                path   label  rec_length   \n",
       "0  /Users/felixkrones/python_projects/data/physio...  normal      6497.0  \\\n",
       "1  /Users/felixkrones/python_projects/data/physio...  normal      8199.0   \n",
       "\n",
       "   frequency  rec_duration_sec   \n",
       "0     4000.0           1.62425  \\\n",
       "1     4000.0           2.04975   \n",
       "\n",
       "                                           recording  \n",
       "0  [-98, 214, 283, 254, 423, 778, 669, 432, 546, ...  \n",
       "1  [-935, -919, -777, -513, -95, 23, -57, 20, 117...  "
      ]
     },
     "execution_count": 5,
     "metadata": {},
     "output_type": "execute_result"
    }
   ],
   "source": [
    "df_pascal.head(2)"
   ]
  },
  {
   "cell_type": "code",
   "execution_count": 6,
   "metadata": {},
   "outputs": [
    {
     "data": {
      "text/html": [
       "<div>\n",
       "<style scoped>\n",
       "    .dataframe tbody tr th:only-of-type {\n",
       "        vertical-align: middle;\n",
       "    }\n",
       "\n",
       "    .dataframe tbody tr th {\n",
       "        vertical-align: top;\n",
       "    }\n",
       "\n",
       "    .dataframe thead th {\n",
       "        text-align: right;\n",
       "    }\n",
       "</style>\n",
       "<table border=\"1\" class=\"dataframe\">\n",
       "  <thead>\n",
       "    <tr style=\"text-align: right;\">\n",
       "      <th>label</th>\n",
       "      <th>extrastole</th>\n",
       "      <th>murmur</th>\n",
       "      <th>normal</th>\n",
       "    </tr>\n",
       "    <tr>\n",
       "      <th>label</th>\n",
       "      <th></th>\n",
       "      <th></th>\n",
       "      <th></th>\n",
       "    </tr>\n",
       "  </thead>\n",
       "  <tbody>\n",
       "    <tr>\n",
       "      <th>extrastole</th>\n",
       "      <td>46</td>\n",
       "      <td>0</td>\n",
       "      <td>0</td>\n",
       "    </tr>\n",
       "    <tr>\n",
       "      <th>murmur</th>\n",
       "      <td>0</td>\n",
       "      <td>66</td>\n",
       "      <td>0</td>\n",
       "    </tr>\n",
       "    <tr>\n",
       "      <th>normal</th>\n",
       "      <td>0</td>\n",
       "      <td>0</td>\n",
       "      <td>200</td>\n",
       "    </tr>\n",
       "  </tbody>\n",
       "</table>\n",
       "</div>"
      ],
      "text/plain": [
       "label       extrastole  murmur  normal\n",
       "label                                 \n",
       "extrastole          46       0       0\n",
       "murmur               0      66       0\n",
       "normal               0       0     200"
      ]
     },
     "execution_count": 6,
     "metadata": {},
     "output_type": "execute_result"
    }
   ],
   "source": [
    "# Distribution of labels\n",
    "pd.crosstab([df_pascal.label], [df_pascal.label])"
   ]
  },
  {
   "cell_type": "code",
   "execution_count": 17,
   "metadata": {},
   "outputs": [
    {
     "data": {
      "text/plain": [
       "[Text(0.5, 0, 'Recording duration [sec]')]"
      ]
     },
     "execution_count": 17,
     "metadata": {},
     "output_type": "execute_result"
    },
    {
     "data": {
      "image/png": "[encoded data removed]",
      "text/plain": [
       "<Figure size 1000x500 with 1 Axes>"
      ]
     },
     "metadata": {},
     "output_type": "display_data"
    }
   ],
   "source": [
    "# Length\n",
    "fig, ax = plt.subplots(figsize=(10,5),nrows=1)\n",
    "sns.set(font_scale=1.5)\n",
    "sns.set_style(\"white\")\n",
    "plt.rcParams['font.size'] = 15\n",
    "sns.histplot(df_pascal, x=\"rec_duration_sec\", hue=\"label\", ax=ax, stat=\"count\", bins=[0,2.5,5,7.5,10,12.5,15,17.5,20,22.5,25])\n",
    "ax.set(xlabel='Recording duration [sec]')"
   ]
  },
  {
   "cell_type": "code",
   "execution_count": 20,
   "metadata": {},
   "outputs": [
    {
     "data": {
      "text/plain": [
       "count    46.000000\n",
       "mean      5.858043\n",
       "std       3.126281\n",
       "min       1.874500\n",
       "25%       3.604875\n",
       "50%       5.153750\n",
       "75%       7.717125\n",
       "max      13.380750\n",
       "Name: rec_duration_sec, dtype: float64"
      ]
     },
     "execution_count": 20,
     "metadata": {},
     "output_type": "execute_result"
    }
   ],
   "source": [
    "df_pascal[df_pascal.label==\"extrastole\"].rec_duration_sec.describe()"
   ]
  },
  {
   "cell_type": "code",
   "execution_count": 24,
   "metadata": {},
   "outputs": [
    {
     "name": "stdout",
     "output_type": "stream",
     "text": [
      "32767\n",
      "-32768\n"
     ]
    }
   ],
   "source": [
    "print(np.max([np.max(i) for i in df_pascal.recording]))\n",
    "print(np.min([np.min(i) for i in df_pascal.recording]))"
   ]
  },
  {
   "cell_type": "code",
   "execution_count": null,
   "metadata": {},
   "outputs": [],
   "source": []
  }
 ],
 "metadata": {
  "interpreter": {
   "hash": "b7630c8dc18f3de06d2e7ab4d24bccf1c95f37b8dcca25f1c268f63eb95db59c"
  },
  "kernelspec": {
   "display_name": "Python 3.10.4 ('physionet_challenge_2022-qOGfeysN')",
   "language": "python",
   "name": "python3"
  },
  "language_info": {
   "codemirror_mode": {
    "name": "ipython",
    "version": 3
   },
   "file_extension": ".py",
   "mimetype": "text/x-python",
   "name": "python",
   "nbconvert_exporter": "python",
   "pygments_lexer": "ipython3",
   "version": "3.9.16"
  },
  "orig_nbformat": 4
 },
 "nbformat": 4,
 "nbformat_minor": 2
}
