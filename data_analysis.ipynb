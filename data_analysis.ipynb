{
 "cells": [
  {
   "cell_type": "code",
   "execution_count": null,
   "metadata": {},
   "outputs": [],
   "source": [
    "%load_ext nb_black"
   ]
  },
  {
   "cell_type": "markdown",
   "metadata": {},
   "source": [
    "# 0. Initiate"
   ]
  },
  {
   "cell_type": "code",
   "execution_count": null,
   "metadata": {},
   "outputs": [],
   "source": [
    "# Load packages\n",
    "import matplotlib.pyplot as plt\n",
    "import seaborn as sns\n",
    "import numpy as np\n",
    "import pandas as pd\n",
    "import random\n",
    "from scipy.io.wavfile import write\n",
    "from tqdm import tqdm\n",
    "import librosa\n",
    "import librosa.display\n",
    "import math\n",
    "\n",
    "import warnings\n",
    "warnings.simplefilter(action=\"ignore\")\n",
    "\n",
    "from team_code_old import *\n",
    "from helper_code import *\n",
    "from DeepNet.HumBugDB.lib.PyTorch.vggish.vggish_input import waveform_to_examples"
   ]
  },
  {
   "cell_type": "code",
   "execution_count": null,
   "metadata": {},
   "outputs": [],
   "source": [
    "# Define paths\n",
    "data_folder = \"data/00_raw/training_data/\"\n",
    "output_folder = \"data/test/\""
   ]
  },
  {
   "cell_type": "code",
   "execution_count": null,
   "metadata": {},
   "outputs": [],
   "source": [
    "def get_features(data, recordings):\n",
    "    # Extract the age group and replace with the (approximate) number of months for the middle of the age group.\n",
    "    age_group = get_age(data)\n",
    "\n",
    "    if compare_strings(age_group, 'Neonate'):\n",
    "        age = 0.5\n",
    "    elif compare_strings(age_group, 'Infant'):\n",
    "        age = 6\n",
    "    elif compare_strings(age_group, 'Child'):\n",
    "        age = 6 * 12\n",
    "    elif compare_strings(age_group, 'Adolescent'):\n",
    "        age = 15 * 12\n",
    "    elif compare_strings(age_group, 'Young Adult'):\n",
    "        age = 20 * 12\n",
    "    else:\n",
    "        age = float('nan')\n",
    "\n",
    "    # Extract sex. Use one-hot encoding.\n",
    "    sex = get_sex(data)\n",
    "\n",
    "    sex_features = np.zeros(2, dtype=int)\n",
    "    if compare_strings(sex, 'Female'):\n",
    "        sex_features[0] = 1\n",
    "    elif compare_strings(sex, 'Male'):\n",
    "        sex_features[1] = 1\n",
    "\n",
    "    # Extract height and weight.\n",
    "    height = get_height(data)\n",
    "    weight = get_weight(data)\n",
    "\n",
    "    # Extract pregnancy status.\n",
    "    is_pregnant = get_pregnancy_status(data)\n",
    "\n",
    "    # Extract recording locations and data. Identify when a location is present, and compute the mean, variance, and skewness of\n",
    "    # each recording. If there are multiple recordings for one location, then extract features from the last recording.\n",
    "    locations = get_locations(data)\n",
    "\n",
    "    recording_locations = ['AV', 'MV', 'PV', 'TV', 'PhC']\n",
    "    num_recording_locations = len(recording_locations)\n",
    "    recording_features = np.zeros((num_recording_locations, 4), dtype=float)\n",
    "    num_locations = len(locations)\n",
    "    num_recordings = len(recordings)\n",
    "    if num_locations==num_recordings:\n",
    "        for i in range(num_locations):\n",
    "            for j in range(num_recording_locations):\n",
    "                if compare_strings(locations[i], recording_locations[j]) and np.size(recordings[i])>0:\n",
    "                    recording_features[j, 0] = 1\n",
    "                    recording_features[j, 1] = np.mean(recordings[i])\n",
    "                    recording_features[j, 2] = np.var(recordings[i])\n",
    "                    recording_features[j, 3] = sp.stats.skew(recordings[i])\n",
    "    recording_features = recording_features.flatten()\n",
    "\n",
    "    features = np.hstack(([age_group], [age], sex_features, [height], [weight], [is_pregnant], recording_features))\n",
    "\n",
    "    return np.asarray(features)"
   ]
  },
  {
   "cell_type": "markdown",
   "metadata": {},
   "source": [
    "# 1. Load data"
   ]
  },
  {
   "cell_type": "code",
   "execution_count": null,
   "metadata": {},
   "outputs": [],
   "source": [
    "# Load recordings.\n",
    "def load_recordings(data_folder, data, get_frequencies=False):\n",
    "    num_locations = get_num_locations(data)\n",
    "    recording_information = data.split('\\n')[1:num_locations+1]\n",
    "\n",
    "    recordings = list()\n",
    "    locations = list()\n",
    "    frequencies = list()\n",
    "    for i in range(num_locations):\n",
    "        entries = recording_information[i].split(' ')\n",
    "        recording_file = entries[2]\n",
    "        filename = os.path.join(data_folder, recording_file)\n",
    "        recording, frequency = load_wav_file(filename)\n",
    "        recordings.append(recording)\n",
    "        locations.append(entries[0])\n",
    "        frequencies.append(frequency)\n",
    "\n",
    "    if get_frequencies:\n",
    "        return recordings, locations, frequencies\n",
    "    else:\n",
    "        return recordings, locations"
   ]
  },
  {
   "cell_type": "code",
   "execution_count": null,
   "metadata": {},
   "outputs": [],
   "source": [
    " # Find the patient data files.\n",
    "patient_files = find_patient_files(data_folder)\n",
    "num_patient_files = len(patient_files)\n",
    "\n",
    "murmur_classes = ['Present', 'Unknown', 'Absent']\n",
    "num_murmur_classes = len(murmur_classes)\n",
    "outcome_classes = ['Abnormal', 'Normal']\n",
    "num_outcome_classes = len(outcome_classes)\n",
    "features = list()\n",
    "murmurs = list()\n",
    "outcomes = list()\n",
    "recordings = list()\n",
    "locations = list()\n",
    "for i in tqdm(range(num_patient_files)):\n",
    "\n",
    "    # Load the current patient data and recordings.\n",
    "    current_patient_data = load_patient_data(patient_files[i])\n",
    "    current_recordings, current_locations = load_recordings(data_folder, current_patient_data)\n",
    "    current_recordings = [r / 32768 for r in current_recordings]\n",
    "    num_recordings_code = get_num_locations(current_patient_data)\n",
    "    num_recordings = len(current_recordings)\n",
    "    recordings.append(current_recordings)\n",
    "    locations.append(current_locations)\n",
    "\n",
    "    # Extract features.\n",
    "    current_features = get_features(current_patient_data, current_recordings)\n",
    "    current_features = np.insert(current_features,0,current_patient_data.split(\" \")[0])\n",
    "    current_features = np.insert(current_features,1,current_patient_data.split(\" \")[2][:-3])\n",
    "    current_features = np.insert(current_features,2,num_recordings)\n",
    "    current_features = np.insert(current_features,3,num_recordings_code)\n",
    "    features.append(current_features)\n",
    "\n",
    "    # Extract labels and use one-hot encoding.\n",
    "    ## Murmur\n",
    "    current_murmur = np.zeros(num_murmur_classes, dtype=int)\n",
    "    murmur = get_murmur(current_patient_data)\n",
    "    if murmur in murmur_classes:\n",
    "        j = murmur_classes.index(murmur)\n",
    "        current_murmur[j] = 1\n",
    "    murmurs.append(current_murmur)\n",
    "    ## Outcome\n",
    "    current_outcome = np.zeros(num_outcome_classes, dtype=int)\n",
    "    outcome = get_outcome(current_patient_data)\n",
    "    if outcome in outcome_classes:\n",
    "        j = outcome_classes.index(outcome)\n",
    "        current_outcome[j] = 1\n",
    "    outcomes.append(current_outcome)\n",
    "\n",
    "features = np.vstack(features)\n",
    "murmurs = np.vstack(murmurs)\n",
    "outcomes = np.vstack(outcomes)\n",
    "\n",
    "# Combine dataframes\n",
    "features_pd = pd.DataFrame(features, columns=[\"id\", \"hz\", \"num_recordings\", \"num_recordings_code\", \"age_group\", \"age\", \"female\", \"male\", \"height\", \"weight\", \"is_pregnant\"]+[f\"standard_recording_features_{i}_{t}\" for t in [\"1\", \"mean\", \"var\", \"skew\"] for i in range(5)])#+[f\"signatures{i}\" for i in range(len(features[0])-12)])\n",
    "murmurs_pd = pd.DataFrame(murmurs, columns=murmur_classes)\n",
    "outcomes_pd = pd.DataFrame(outcomes, columns=outcome_classes)\n",
    "recordings_pd = pd.DataFrame(columns=np.unique([item for sublist in locations for item in sublist]))\n",
    "for i in range(len(recordings)):\n",
    "    recordings_pd = recordings_pd.append({locations[i][0]: recordings[i][0]}, ignore_index=True)\n",
    "    for j in range(1, len(recordings[i])):\n",
    "        recordings_pd[locations[i][j]].iloc[i] = recordings[i][j]\n",
    "complete_pd = pd.concat([features_pd.loc[:, [c for c in features_pd.columns if \"standard_recording_features_\" not in c]], murmurs_pd, outcomes_pd, recordings_pd], axis=1)\n",
    "\n",
    "# Prep\n",
    "features_pd[\"age_year\"] = features_pd['age'].astype(float).astype(int, errors='ignore')/12\n",
    "complete_pd[\"age_year\"] = complete_pd['age'].astype(float).astype(int, errors='ignore')/12\n",
    "complete_pd[\"murmur\"]= [1 if p==1 else -1 if a==1 else 0 for p,a  in zip(complete_pd.Present, complete_pd.Absent)]\n",
    "complete_pd[\"is_pregnant\"] = complete_pd[\"is_pregnant\"].apply(lambda x: 0 if x==\"False\" else 1)\n",
    "\n",
    "# Get recordings length\n",
    "for c in complete_pd.columns:\n",
    "    if \"location\" in c and \"length\" not in c:\n",
    "        complete_pd[c].loc[complete_pd[c].isnull()] = complete_pd[c].loc[complete_pd[c].isnull()].apply(lambda x: [])\n",
    "        complete_pd[f\"length_sec_{c}\"] = complete_pd[c].apply(len)/complete_pd['hz'].astype(float).astype(\"Int64\")\n",
    "\n",
    "# Label nans correctly\n",
    "complete_pd = complete_pd.replace(\"nan\", np.nan)"
   ]
  },
  {
   "cell_type": "code",
   "execution_count": null,
   "metadata": {},
   "outputs": [],
   "source": [
    "complete_pd[['id', 'hz', 'num_recordings', 'num_recordings_code', 'age_group', 'age', 'female',\n",
    "       'male', 'height', 'weight', 'is_pregnant', 'Present', 'Unknown',\n",
    "       'Absent', 'Abnormal', 'Normal', 'age_year',\n",
    "       'murmur', 'length_sec_location_0', 'length_sec_location_1',\n",
    "       'length_sec_location_2', 'length_sec_location_3',\n",
    "       'length_sec_location_4', 'length_sec_location_5']].to_csv(\"data/00_raw/complete_pd.csv\", index=False)"
   ]
  },
  {
   "cell_type": "code",
   "execution_count": null,
   "metadata": {},
   "outputs": [],
   "source": [
    "complete_pd_long = pd.wide_to_long(complete_pd, ['length_sec_location_'], i='id', j='location').reset_index()"
   ]
  },
  {
   "cell_type": "code",
   "execution_count": null,
   "metadata": {},
   "outputs": [],
   "source": [
    "complete_pd_long[['id', 'hz', 'num_recordings', 'num_recordings_code', 'age_group', 'age', 'female',\n",
    "       'male', 'height', 'weight', 'is_pregnant', 'Present', 'Unknown',\n",
    "       'Absent', 'Abnormal', 'Normal', 'age_year',\n",
    "       'murmur', 'location', 'length_sec_location_']].to_csv(\"data/00_raw/complete_pd_long.csv\", index=False)"
   ]
  },
  {
   "cell_type": "code",
   "execution_count": null,
   "metadata": {},
   "outputs": [],
   "source": [
    "complete_pd_long.loc[complete_pd_long.length_sec_location_>0,:].shape"
   ]
  },
  {
   "cell_type": "markdown",
   "metadata": {},
   "source": [
    "# 2. Data distributions"
   ]
  },
  {
   "cell_type": "code",
   "execution_count": null,
   "metadata": {},
   "outputs": [],
   "source": [
    "# Descriptive\n",
    "pd.DataFrame(complete_pd.describe())"
   ]
  },
  {
   "cell_type": "code",
   "execution_count": null,
   "metadata": {},
   "outputs": [],
   "source": [
    "# Missing values\n",
    "fig, ax = plt.subplots(figsize=(10,7))\n",
    "sns.heatmap(complete_pd[['age', 'female', 'male', 'height', 'weight', 'is_pregnant', 'murmur']].astype(float).isna(), cbar=False, cmap=\"Greys\", ax=ax)\n",
    "plt.xticks(fontsize=12, rotation=0)\n",
    "ax.set_yticks([])"
   ]
  },
  {
   "cell_type": "code",
   "execution_count": null,
   "metadata": {},
   "outputs": [],
   "source": [
    "# Missing values\n",
    "fig, ax = plt.subplots(figsize=(10,7))\n",
    "sns.heatmap(complete_pd.loc[complete_pd.age.isnull(),:].isnull(), cbar=False, cmap=\"Greys\", ax=ax)"
   ]
  },
  {
   "cell_type": "code",
   "execution_count": null,
   "metadata": {},
   "outputs": [],
   "source": [
    "# Missing values\n",
    "fig, ax = plt.subplots(figsize=(10,7))\n",
    "sns.heatmap(complete_pd.loc[complete_pd.is_pregnant==1,:].isnull(), cbar=False, cmap=\"Greys\", ax=ax)"
   ]
  },
  {
   "cell_type": "code",
   "execution_count": null,
   "metadata": {},
   "outputs": [],
   "source": [
    "# Age\n",
    "fig, ax = plt.subplots(figsize=(10,7))\n",
    "sns.histplot(complete_pd.weight, bins=50)"
   ]
  },
  {
   "cell_type": "code",
   "execution_count": null,
   "metadata": {},
   "outputs": [],
   "source": [
    "# Age\n",
    "fig, ax = plt.subplots(figsize=(10,7))\n",
    "sns.histplot(complete_pd.height, bins=50)"
   ]
  },
  {
   "cell_type": "code",
   "execution_count": null,
   "metadata": {},
   "outputs": [],
   "source": [
    "# Height, weight\n",
    "fig, ax = plt.subplots(figsize=(10,7))\n",
    "sns.scatterplot(complete_pd.weight, complete_pd.height, hue=complete_pd.age_year)"
   ]
  },
  {
   "cell_type": "code",
   "execution_count": null,
   "metadata": {},
   "outputs": [],
   "source": [
    "# Height, weight\n",
    "fig, ax = plt.subplots(figsize=(10,7))\n",
    "sns.scatterplot(complete_pd.weight, complete_pd.height, hue=complete_pd.female)\n"
   ]
  },
  {
   "cell_type": "code",
   "execution_count": null,
   "metadata": {},
   "outputs": [],
   "source": [
    "# Age\n",
    "fig, ax = plt.subplots(figsize=(10,7))\n",
    "sns.histplot(complete_pd.age_year, bins=50)"
   ]
  },
  {
   "cell_type": "code",
   "execution_count": null,
   "metadata": {},
   "outputs": [],
   "source": [
    "# Age\n",
    "fig, ax = plt.subplots(figsize=(10,7))\n",
    "sns.scatterplot(complete_pd.age_year, complete_pd.height, hue=complete_pd.female)"
   ]
  },
  {
   "cell_type": "code",
   "execution_count": null,
   "metadata": {},
   "outputs": [],
   "source": [
    "# Age\n",
    "fig, ax = plt.subplots(figsize=(10,7))\n",
    "sns.scatterplot(complete_pd.age_year, complete_pd.weight, hue=complete_pd.female)"
   ]
  },
  {
   "cell_type": "code",
   "execution_count": null,
   "metadata": {},
   "outputs": [],
   "source": [
    "# Pregnant\n",
    "pd.DataFrame(complete_pd.loc[complete_pd.is_pregnant==1, :].describe())"
   ]
  },
  {
   "cell_type": "code",
   "execution_count": null,
   "metadata": {},
   "outputs": [],
   "source": [
    "# Labels\n",
    "pd.crosstab([complete_pd.Abnormal, complete_pd.Normal], [complete_pd.Present, complete_pd.Unknown, complete_pd.Absent, complete_pd.murmur])"
   ]
  },
  {
   "cell_type": "code",
   "execution_count": null,
   "metadata": {},
   "outputs": [],
   "source": [
    "# Labels\n",
    "pd.crosstab([complete_pd.age_year], [complete_pd.Present, complete_pd.Unknown, complete_pd.Absent, complete_pd.murmur])"
   ]
  },
  {
   "cell_type": "code",
   "execution_count": null,
   "metadata": {},
   "outputs": [],
   "source": [
    "# Labels\n",
    "pd.crosstab([complete_pd.female], [complete_pd.Present, complete_pd.Unknown, complete_pd.Absent, complete_pd.murmur])"
   ]
  },
  {
   "cell_type": "code",
   "execution_count": null,
   "metadata": {},
   "outputs": [],
   "source": [
    "# Labels\n",
    "pd.crosstab([complete_pd.num_recordings_code], [complete_pd.Present, complete_pd.Unknown, complete_pd.Absent, complete_pd.murmur])"
   ]
  },
  {
   "cell_type": "code",
   "execution_count": null,
   "metadata": {},
   "outputs": [],
   "source": [
    "# Weight and height\n",
    "fig, ax = plt.subplots(figsize=(10,7))\n",
    "sns.scatterplot(complete_pd.weight, complete_pd.height, hue=complete_pd.murmur)\n"
   ]
  },
  {
   "cell_type": "code",
   "execution_count": null,
   "metadata": {},
   "outputs": [],
   "source": [
    "recordings_lengths_aux = [[eval(f\"complete_pd.length_sec_location_{i}\"),complete_pd.murmur] for i in range(6)]\n",
    "recordings_lengths = [e[0] for e in recordings_lengths_aux]\n",
    "recordings_lengths = [item for sublist in recordings_lengths for item in sublist]\n",
    "murmur_label = [e[1] for e in recordings_lengths_aux]\n",
    "murmur_label = [item for sublist in murmur_label for item in sublist]\n",
    "df_lengths = pd.DataFrame({'length': recordings_lengths, 'murmur': murmur_label})\n",
    "df_lengths = df_lengths.loc[df_lengths.length>0, :]"
   ]
  },
  {
   "cell_type": "code",
   "execution_count": null,
   "metadata": {},
   "outputs": [],
   "source": [
    "len(df_lengths.loc[df_lengths.murmur==1])"
   ]
  },
  {
   "cell_type": "code",
   "execution_count": null,
   "metadata": {},
   "outputs": [],
   "source": [
    "# Length\n",
    "fig, ax = plt.subplots(figsize=(10,20),nrows=4)\n",
    "sns.histplot(df_lengths, x=\"length\", hue=\"murmur\", ax=ax[0], stat=\"count\", binrange=[0,65], binwidth=1)\n",
    "sns.histplot(df_lengths.loc[df_lengths.murmur==-1], x=\"length\", ax=ax[1], stat=\"count\", binrange=[0,65], binwidth=1, color=\"yellow\")\n",
    "sns.histplot(df_lengths.loc[df_lengths.murmur==0], x=\"length\", ax=ax[2], stat=\"count\", binrange=[0,65], binwidth=1, color=\"red\")\n",
    "sns.histplot(df_lengths.loc[df_lengths.murmur==1], x=\"length\", ax=ax[3], stat=\"count\", binrange=[0,65], binwidth=1, color=\"black\")\n"
   ]
  },
  {
   "cell_type": "code",
   "execution_count": null,
   "metadata": {},
   "outputs": [],
   "source": [
    "# Length\n",
    "fig, ax = plt.subplots(figsize=(10,20),nrows=4)\n",
    "sns.histplot(complete_pd, x=\"num_recordings\", hue=\"murmur\", ax=ax[0], stat=\"count\", binrange=[0,6], binwidth=1)\n",
    "sns.histplot(complete_pd.loc[complete_pd.murmur==-1], x=\"num_recordings\", ax=ax[1], stat=\"count\", binrange=[0,6], binwidth=1, color=\"yellow\")\n",
    "sns.histplot(complete_pd.loc[complete_pd.murmur==0], x=\"num_recordings\", ax=ax[2], stat=\"count\", binrange=[0,6], binwidth=1, color=\"red\")\n",
    "sns.histplot(complete_pd.loc[complete_pd.murmur==1], x=\"num_recordings\", ax=ax[3], stat=\"count\", binrange=[0,6], binwidth=1, color=\"black\")\n"
   ]
  }
 ],
 "metadata": {
  "interpreter": {
   "hash": "b7630c8dc18f3de06d2e7ab4d24bccf1c95f37b8dcca25f1c268f63eb95db59c"
  },
  "kernelspec": {
   "display_name": "Python 3.10.4 ('physionet_challenge_2022-qOGfeysN')",
   "language": "python",
   "name": "python3"
  },
  "language_info": {
   "codemirror_mode": {
    "name": "ipython",
    "version": 3
   },
   "file_extension": ".py",
   "mimetype": "text/x-python",
   "name": "python",
   "nbconvert_exporter": "python",
   "pygments_lexer": "ipython3",
   "version": "3.9.9"
  },
  "orig_nbformat": 4
 },
 "nbformat": 4,
 "nbformat_minor": 2
}
